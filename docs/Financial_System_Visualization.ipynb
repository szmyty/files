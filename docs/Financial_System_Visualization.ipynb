{
 "cells": [
  {
   "cell_type": "markdown",
   "id": "8a29e6b8",
   "metadata": {},
   "source": [
    "# 🚀 Financial System & Psychology Interactive Notebook\n",
    "### Exploring Financial Autonomy, Ego Psychology, and System Design\n",
    "---\n",
    "This notebook visualizes key insights from the personal finance system journey, showing:\n",
    "- 📊 **Financial projections & decision-making simulations**\n",
    "- 🧠 **Ego vs. Strategic Thinking in Finance**\n",
    "- 🏗 **System Design & Visualizing an Adaptive Financial Model**\n",
    "---"
   ]
  },
  {
   "cell_type": "markdown",
   "id": "b2e220b1",
   "metadata": {},
   "source": [
    "## 📊 Financial Health Overview\n",
    "This section visualizes key financial health metrics."
   ]
  },
  {
   "cell_type": "code",
   "execution_count": null,
   "id": "ac53dc89",
   "metadata": {},
   "outputs": [],
   "source": [
    "\n",
    "import matplotlib.pyplot as plt\n",
    "import numpy as np\n",
    "\n",
    "# Sample financial health data\n",
    "categories = [\"Savings\", \"Debt\", \"Investments\", \"Expenses\"]\n",
    "values = [5000, -12000, 8000, -4000]\n",
    "\n",
    "# Create a financial balance bar chart\n",
    "plt.figure(figsize=(8,5))\n",
    "bars = plt.bar(categories, values, color=['green' if v > 0 else 'red' for v in values])\n",
    "plt.axhline(0, color='black', linewidth=1)\n",
    "\n",
    "# Add labels\n",
    "for bar in bars:\n",
    "    yval = bar.get_height()\n",
    "    plt.text(bar.get_x() + bar.get_width()/2, yval, f\"${yval}\", ha=\"center\", va=\"bottom\" if yval > 0 else \"top\")\n",
    "\n",
    "plt.title(\"Current Financial Snapshot\")\n",
    "plt.ylabel(\"Amount ($)\")\n",
    "plt.show()\n"
   ]
  },
  {
   "cell_type": "markdown",
   "id": "836f0de7",
   "metadata": {},
   "source": [
    "## 🧠 Ego vs. Strategic Thinking in Financial Decisions\n",
    "This section simulates how **ego-driven** vs. **strategic financial decisions** impact long-term financial health."
   ]
  },
  {
   "cell_type": "code",
   "execution_count": null,
   "id": "7b16c4cd",
   "metadata": {},
   "outputs": [],
   "source": [
    "\n",
    "import pandas as pd\n",
    "\n",
    "# Simulating two different financial decision-making approaches\n",
    "months = np.arange(1, 13)\n",
    "ego_spending = np.cumsum(np.random.randint(-800, -300, size=len(months)))  # Impulsive spending pattern\n",
    "strategic_saving = np.cumsum(np.random.randint(200, 700, size=len(months)))  # Structured saving approach\n",
    "\n",
    "# Create DataFrame for visualization\n",
    "df = pd.DataFrame({\"Month\": months, \"Ego-Based Decisions\": ego_spending, \"Strategic Planning\": strategic_saving})\n",
    "\n",
    "# Plot\n",
    "plt.figure(figsize=(8,5))\n",
    "plt.plot(df[\"Month\"], df[\"Ego-Based Decisions\"], label=\"Ego-Based Decisions\", color=\"red\", linestyle=\"dashed\")\n",
    "plt.plot(df[\"Month\"], df[\"Strategic Planning\"], label=\"Strategic Planning\", color=\"green\", linestyle=\"solid\")\n",
    "plt.axhline(0, color='black', linewidth=1)\n",
    "plt.xlabel(\"Months\")\n",
    "plt.ylabel(\"Cumulative Financial Impact ($)\")\n",
    "plt.title(\"Ego vs. Strategic Financial Decisions Over Time\")\n",
    "plt.legend()\n",
    "plt.show()\n"
   ]
  },
  {
   "cell_type": "markdown",
   "id": "472217e1",
   "metadata": {},
   "source": [
    "## 🤖 Decision Support System: Financial Scenario Modeling\n",
    "This section demonstrates a simple **decision support model** for evaluating financial choices."
   ]
  },
  {
   "cell_type": "code",
   "execution_count": null,
   "id": "82e05bcf",
   "metadata": {},
   "outputs": [],
   "source": [
    "\n",
    "# Function to simulate financial impact of different choices\n",
    "def financial_decision_model(initial_balance=5000, monthly_income=3000, rent=1200, spending_rate=0.6, months=12):\n",
    "    balance = initial_balance\n",
    "    balances = []\n",
    "    for _ in range(months):\n",
    "        expenses = rent + (monthly_income * spending_rate)  # Variable spending pattern\n",
    "        balance += monthly_income - expenses\n",
    "        balances.append(balance)\n",
    "    return balances\n",
    "\n",
    "# Simulate different spending behaviors\n",
    "low_spending = financial_decision_model(spending_rate=0.4)\n",
    "high_spending = financial_decision_model(spending_rate=0.8)\n",
    "\n",
    "# Plot financial trajectory under different scenarios\n",
    "plt.figure(figsize=(8,5))\n",
    "plt.plot(range(1, 13), low_spending, label=\"Low Spending (40%)\", color=\"blue\")\n",
    "plt.plot(range(1, 13), high_spending, label=\"High Spending (80%)\", color=\"orange\")\n",
    "plt.axhline(0, color='black', linewidth=1)\n",
    "plt.xlabel(\"Months\")\n",
    "plt.ylabel(\"Projected Balance ($)\")\n",
    "plt.title(\"Financial Impact of Spending Behavior\")\n",
    "plt.legend()\n",
    "plt.show()\n"
   ]
  }
 ],
 "metadata": {},
 "nbformat": 4,
 "nbformat_minor": 5
}
